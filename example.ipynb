{
 "cells": [
  {
   "cell_type": "markdown",
   "metadata": {},
   "source": [
    "## basic use\n",
    "\n",
    "the next cells show how the %cache magic should be used\n"
   ]
  },
  {
   "cell_type": "markdown",
   "metadata": {},
   "source": [
    "Note: This notebook requires the the packages scikit-learn, numpy and cache-magic to be installed"
   ]
  },
  {
   "cell_type": "code",
   "execution_count": 22,
   "metadata": {
    "scrolled": true
   },
   "outputs": [
    {
     "name": "stdout",
     "output_type": "stream",
     "text": [
      "Resetting entire cache\n",
      "Creating new value for variable 'a'\n",
      "Loading cached value for variable 'a'. Time since caching: 0:00:00.000577\n"
     ]
    }
   ],
   "source": [
    "import cache_magic\n",
    "\n",
    "# delete everthing currently cached\n",
    "%cache --reset \n",
    "\n",
    "# store a new value for a\n",
    "%cache a = \"111\"\n",
    "\n",
    "# fetch the cached value for a\n",
    "%cache a = \"111\""
   ]
  },
  {
   "cell_type": "code",
   "execution_count": 23,
   "metadata": {
    "scrolled": false
   },
   "outputs": [
    {
     "name": "stdout",
     "output_type": "stream",
     "text": [
      "Resetting entire cache\n",
      "Creating new value for variable 'clf'\n",
      "Loading cached value for variable 'clf'. Time since caching: 0:00:00.000658\n",
      "Loading cached value for variable 'clf'. Time since caching: 0:00:00.001776\n",
      "Loading cached value for variable 'clf'. Time since caching: 0:00:00.002597\n",
      "Loading cached value for variable 'clf'. Time since caching: 0:00:00.003328\n",
      "The slowest run took 112.46 times longer than the fastest. This could mean that an intermediate result is being cached.\n",
      "17.5 ms ± 33.4 ms per loop (mean ± std. dev. of 5 runs, 1 loop each)\n"
     ]
    }
   ],
   "source": [
    "# an examle for an actual use-case\n",
    "import cache_magic\n",
    "import numpy as np\n",
    "from sklearn import svm\n",
    "\n",
    "%cache --reset\n",
    "\n",
    "%timeit -n 1 -r 5 %cache -v 1 clf = svm.LinearSVC(dual='auto').fit(np.random.randint(5, size=(5000, 40)), np.random.randint(5, size=(5000)))\n"
   ]
  },
  {
   "cell_type": "code",
   "execution_count": 24,
   "metadata": {
    "scrolled": false
   },
   "outputs": [
    {
     "name": "stdout",
     "output_type": "stream",
     "text": [
      "Resetting entire cache\n",
      "Creating new value for variable 'a'\n",
      "Warning! Expression has changed since last save, which was at 2024-02-14 04:32:05.811509\n",
      "To store a new value, change or omit the version ('-v' or '--version').\n",
      "Loading cached value for variable 'a'. Time since caching: 0:00:00.001323\n",
      "Warning! Expression has changed since last save, which was at 2024-02-14 04:32:05.811509\n",
      "To store a new value, change or omit the version ('-v' or '--version').\n",
      "Loading cached value for variable 'a'. Time since caching: 0:00:00.002876\n",
      "Warning! Expression has changed since last save, which was at 2024-02-14 04:32:05.811509\n",
      "To store a new value, change or omit the version ('-v' or '--version').\n",
      "Loading cached value for variable 'a'. Time since caching: 0:00:00.004112\n"
     ]
    }
   ],
   "source": [
    "# the following 4 cases use the same version\n",
    "\n",
    "%cache -r\n",
    "\n",
    "# without explicit version, the expression (=right hand site of assignment) is used as version\n",
    "%cache a = 0\n",
    "\n",
    "# if parameter is an integer, it will be the version\n",
    "%cache -v 0 a = 1 \n",
    "\n",
    "# if parameter is a variable name, it's value is used as version\n",
    "my_version = 0\n",
    "%cache -v my_version a = 1\n",
    "\n",
    "# new and old version are converted into a string before comparing them\n",
    "my_version_2 = \"0\"\n",
    "%cache -v my_version_2 a = 1"
   ]
  },
  {
   "cell_type": "code",
   "execution_count": 25,
   "metadata": {
    "scrolled": true
   },
   "outputs": [
    {
     "data": {
      "text/html": [
       "<table>\n",
       "<thead>\n",
       "<tr><th>Var Name   </th><th style=\"text-align: right;\">  Size(MB)</th><th>Stored Date               </th><th style=\"text-align: right;\">  Version</th><th style=\"text-align: right;\">  Expression</th></tr>\n",
       "</thead>\n",
       "<tbody>\n",
       "<tr><td>a          </td><td style=\"text-align: right;\">   1.3e-05</td><td>2024-02-14 04:32:05.811509</td><td style=\"text-align: right;\">        0</td><td style=\"text-align: right;\">           0</td></tr>\n",
       "<tr><td>Total Size:</td><td style=\"text-align: right;\">   1.3e-05</td><td>                          </td><td style=\"text-align: right;\">         </td><td style=\"text-align: right;\">            </td></tr>\n",
       "</tbody>\n",
       "</table>"
      ],
      "text/plain": [
       "<IPython.core.display.HTML object>"
      ]
     },
     "metadata": {},
     "output_type": "display_data"
    },
    {
     "name": "stdout",
     "output_type": "stream",
     "text": [
      "Creating new value for variable 'b'\n",
      "Creating new value for variable 'c'\n",
      "Creating new value for variable 'd'\n"
     ]
    },
    {
     "data": {
      "text/html": [
       "<table>\n",
       "<thead>\n",
       "<tr><th>Var Name   </th><th style=\"text-align: right;\">  Size(MB)</th><th>Stored Date               </th><th style=\"text-align: right;\">  Version</th><th>Expression  </th></tr>\n",
       "</thead>\n",
       "<tbody>\n",
       "<tr><td>a          </td><td style=\"text-align: right;\">   1.3e-05</td><td>2024-02-14 04:32:05.811509</td><td style=\"text-align: right;\">        0</td><td>0           </td></tr>\n",
       "<tr><td>b          </td><td style=\"text-align: right;\">   1.3e-05</td><td>2024-02-14 04:32:05.835470</td><td style=\"text-align: right;\">        0</td><td>3           </td></tr>\n",
       "<tr><td>c          </td><td style=\"text-align: right;\">   1.3e-05</td><td>2024-02-14 04:32:05.838417</td><td style=\"text-align: right;\">        0</td><td>fun(b)      </td></tr>\n",
       "<tr><td>d          </td><td style=\"text-align: right;\">   2.2e-05</td><td>2024-02-14 04:32:05.840963</td><td style=\"text-align: right;\">        4</td><td>fun(1.1)    </td></tr>\n",
       "<tr><td>Total Size:</td><td style=\"text-align: right;\">   6.1e-05</td><td>                          </td><td style=\"text-align: right;\">         </td><td>            </td></tr>\n",
       "</tbody>\n",
       "</table>"
      ],
      "text/plain": [
       "<IPython.core.display.HTML object>"
      ]
     },
     "metadata": {},
     "output_type": "display_data"
    }
   ],
   "source": [
    "# show everything, that is cached\n",
    "%cache\n",
    "\n",
    "# generate some variables\n",
    "%cache b=3\n",
    "def fun(x):\n",
    "    return x+1\n",
    "%cache c = fun(b)\n",
    "%cache -v c d = fun(1.1)\n",
    "\n",
    "# show the new cache\n",
    "%cache"
   ]
  },
  {
   "cell_type": "markdown",
   "metadata": {},
   "source": [
    "## power use\n",
    "\n",
    "the next cells show how the %cache magic can be used"
   ]
  },
  {
   "cell_type": "code",
   "execution_count": 26,
   "metadata": {
    "scrolled": false
   },
   "outputs": [
    {
     "name": "stdout",
     "output_type": "stream",
     "text": [
      "Resetting entire cache\n",
      "Creating new value for variable 'clf'\n",
      "Warning! Expression has changed since last save, which was at 2024-02-14 04:32:05.877668\n",
      "To store a new value, change or omit the version ('-v' or '--version').\n",
      "Loading cached value for variable 'clf'. Time since caching: 0:00:00.001843\n",
      "0\n",
      "Loading cached value for variable 'clf'. Time since caching: 0:00:00.003435\n",
      "2\n",
      "Creating new value for variable 'clf'\n",
      "not a classifier\n"
     ]
    }
   ],
   "source": [
    "import cache_magic\n",
    "import numpy as np\n",
    "from sklearn import svm\n",
    "%cache --reset\n",
    "\n",
    "# even if the expression changes, but not the version, the old value will still be loaded \n",
    "# in which case there will be a warning\n",
    "%cache -v 1 clf = svm.LinearSVC(dual='auto').fit(np.random.randint(5, size=(1000, 40)), np.random.randint(5, size=(1000)))\n",
    "%cache -v 1 clf = \"not a classifier\"\n",
    "print(clf.predict(np.random.randint(5,size=(1,40)))[0])\n",
    "\n",
    "# without an expression, it will always try to reload the cached value\n",
    "del clf\n",
    "%cache -v 1 clf\n",
    "print(clf.predict(np.random.randint(5,size=(1,40)))[0])\n",
    "\n",
    "# you can store the current value of a var without an actual statement by assigning it to itself\n",
    "clf=\"not a classifier\"\n",
    "%cache -v 2 clf=clf\n",
    "print(clf)\n"
   ]
  },
  {
   "cell_type": "code",
   "execution_count": 27,
   "metadata": {
    "scrolled": true
   },
   "outputs": [
    {
     "name": "stdout",
     "output_type": "stream",
     "text": [
      "Loading cached value for variable 'clf'. Time since caching: 0:00:00.006313\n",
      "not a classifier\n"
     ]
    }
   ],
   "source": [
    "# while the cache still exists in the file system, the cell can be executed alone\n",
    "import cache_magic\n",
    "\n",
    "%cache clf\n",
    "print(clf)\n"
   ]
  },
  {
   "cell_type": "code",
   "execution_count": 28,
   "metadata": {
    "scrolled": true
   },
   "outputs": [
    {
     "name": "stdout",
     "output_type": "stream",
     "text": [
      "resetting entire cache\n",
      "creating new value for variable 'a'\n",
      "creating new value for variable 'b'\n",
      "creating new value for variable 'c'\n"
     ]
    },
    {
     "data": {
      "text/html": [
       "<table>\n",
       "<thead>\n",
       "<tr><th>var name  </th><th style=\"text-align: right;\">  size(byte)</th><th>stored at date            </th><th style=\"text-align: right;\">  version</th><th style=\"text-align: right;\">  expression(hash)</th></tr>\n",
       "</thead>\n",
       "<tbody>\n",
       "<tr><td>b         </td><td style=\"text-align: right;\">           5</td><td>2018-01-25 15:06:28.438061</td><td style=\"text-align: right;\">        1</td><td style=\"text-align: right;\">                 1</td></tr>\n",
       "<tr><td>a         </td><td style=\"text-align: right;\">           5</td><td>2018-01-25 15:06:28.437203</td><td style=\"text-align: right;\">        1</td><td style=\"text-align: right;\">                 1</td></tr>\n",
       "<tr><td>c         </td><td style=\"text-align: right;\">           5</td><td>2018-01-25 15:06:28.438906</td><td style=\"text-align: right;\">        1</td><td style=\"text-align: right;\">                 1</td></tr>\n",
       "</tbody>\n",
       "</table>"
      ],
      "text/plain": [
       "<IPython.core.display.HTML object>"
      ]
     },
     "metadata": {},
     "output_type": "display_data"
    },
    {
     "name": "stdout",
     "output_type": "stream",
     "text": [
      ".cache_magic\n",
      ".cache_magic/b\n",
      ".cache_magic/a\n",
      ".cache_magic/c\n",
      "/home/jovyan\n"
     ]
    },
    {
     "data": {
      "text/html": [
       "<table>\n",
       "<thead>\n",
       "<tr><th>var name  </th><th style=\"text-align: right;\">  size(byte)</th><th>stored at date            </th><th style=\"text-align: right;\">  version</th><th style=\"text-align: right;\">  expression(hash)</th></tr>\n",
       "</thead>\n",
       "<tbody>\n",
       "<tr><td>b         </td><td style=\"text-align: right;\">           5</td><td>2018-01-25 15:06:28.438061</td><td style=\"text-align: right;\">        1</td><td style=\"text-align: right;\">                 1</td></tr>\n",
       "<tr><td>a         </td><td style=\"text-align: right;\">           5</td><td>2018-01-25 15:06:28.437203</td><td style=\"text-align: right;\">        1</td><td style=\"text-align: right;\">                 1</td></tr>\n",
       "<tr><td>c         </td><td style=\"text-align: right;\">           5</td><td>2018-01-25 15:06:28.438906</td><td style=\"text-align: right;\">        1</td><td style=\"text-align: right;\">                 1</td></tr>\n",
       "</tbody>\n",
       "</table>"
      ],
      "text/plain": [
       "<IPython.core.display.HTML object>"
      ]
     },
     "metadata": {},
     "output_type": "display_data"
    },
    {
     "name": "stdout",
     "output_type": "stream",
     "text": [
      "/home/jovyan/magic\n"
     ]
    },
    {
     "data": {
      "text/html": [
       "<table>\n",
       "<thead>\n",
       "<tr><th>var name  </th><th style=\"text-align: right;\">  size(byte)</th><th>stored at date            </th><th style=\"text-align: right;\">  version</th><th style=\"text-align: right;\">  expression(hash)</th></tr>\n",
       "</thead>\n",
       "<tbody>\n",
       "<tr><td>b         </td><td style=\"text-align: right;\">           5</td><td>2018-01-25 15:06:28.438061</td><td style=\"text-align: right;\">        1</td><td style=\"text-align: right;\">                 1</td></tr>\n",
       "<tr><td>a         </td><td style=\"text-align: right;\">           5</td><td>2018-01-25 15:06:28.437203</td><td style=\"text-align: right;\">        1</td><td style=\"text-align: right;\">                 1</td></tr>\n",
       "<tr><td>c         </td><td style=\"text-align: right;\">           5</td><td>2018-01-25 15:06:28.438906</td><td style=\"text-align: right;\">        1</td><td style=\"text-align: right;\">                 1</td></tr>\n",
       "</tbody>\n",
       "</table>"
      ],
      "text/plain": [
       "<IPython.core.display.HTML object>"
      ]
     },
     "metadata": {},
     "output_type": "display_data"
    },
    {
     "name": "stdout",
     "output_type": "stream",
     "text": [
      ".cache_magic\n",
      ".cache_magic/b\n",
      ".cache_magic/a\n",
      ".cache_magic/c\n"
     ]
    }
   ],
   "source": [
    "# the cache is stored in the directory where the kernel was first started in \n",
    "\n",
    "import cache_magic\n",
    "import os\n",
    "\n",
    "%cache -r\n",
    "%cache a=1\n",
    "%cache b=1\n",
    "%cache c=1\n",
    "\n",
    "%cache\n",
    "for root, dirs, files in os.walk(\".cache-magic\"):\n",
    "    # there is one folder per cache variable\n",
    "    print(root)\n",
    "\n",
    "# if the working dir changes, the .cache-dir stays where it is\n",
    "%cd ..\n",
    "%cache\n",
    "for root, dirs, files in os.walk(\".cache-magic\"):\n",
    "    # no output, because no .cache-dir\n",
    "    print(root)\n",
    "    \n",
    "\n",
    "%cd -\n",
    "%cache\n",
    "for root, dirs, files in os.walk(\".cache-magic\"):\n",
    "    # now we see the cache directory againg\n",
    "    print(root)\n",
    "       "
   ]
  },
  {
   "cell_type": "code",
   "execution_count": 29,
   "metadata": {},
   "outputs": [
    {
     "name": "stdout",
     "output_type": "stream",
     "text": [
      "Resetting cached values for a\n",
      "Creating new value for variable 'a'\n",
      "Resetting cached values for a\n",
      "Error: Variable 'a' not in cache.\n",
      "Creating new value for variable 'a'\n"
     ]
    }
   ],
   "source": [
    "import cache_magic\n",
    "\n",
    "# always store a new value and never read from cache\n",
    "%cache -r a=1\n",
    "\n",
    "# remove a single variable from cache\n",
    "%cache -r a\n",
    "\n",
    "# Error:\n",
    "%cache a\n",
    "\n",
    "# load last value if possible, and store new value on miss\n",
    "%cache a = a\n"
   ]
  },
  {
   "cell_type": "code",
   "execution_count": 30,
   "metadata": {},
   "outputs": [
    {
     "name": "stdout",
     "output_type": "stream",
     "text": [
      "Loading cached value for variable 'a'. Time since caching: 0:00:00.014347\n"
     ]
    }
   ],
   "source": [
    "# load last value if possible, but don't store new value on miss\n",
    "import cache_magic\n",
    "\n",
    "del a\n",
    "%cache a"
   ]
  },
  {
   "cell_type": "code",
   "execution_count": 31,
   "metadata": {},
   "outputs": [
    {
     "name": "stdout",
     "output_type": "stream",
     "text": [
      "creating new value for variable 'aaa'\n",
      "creating new value for variable 'bbb'\n"
     ]
    },
    {
     "data": {
      "text/html": [
       "<table>\n",
       "<thead>\n",
       "<tr><th>var name  </th><th style=\"text-align: right;\">  size(byte)</th><th>stored at date            </th><th>version  </th><th>expression(hash)  </th></tr>\n",
       "</thead>\n",
       "<tbody>\n",
       "<tr><td>b         </td><td style=\"text-align: right;\">           5</td><td>2018-01-25 15:06:28.438061</td><td>1        </td><td>1                 </td></tr>\n",
       "<tr><td>a         </td><td style=\"text-align: right;\">           5</td><td>2018-01-25 15:06:28.565980</td><td>a        </td><td>a                 </td></tr>\n",
       "<tr><td>aaa       </td><td style=\"text-align: right;\">           5</td><td>2018-01-25 15:06:28.704483</td><td>1+1      </td><td>1+1               </td></tr>\n",
       "<tr><td>c         </td><td style=\"text-align: right;\">           5</td><td>2018-01-25 15:06:28.438906</td><td>1        </td><td>1                 </td></tr>\n",
       "<tr><td>bbb       </td><td style=\"text-align: right;\">           5</td><td>2018-01-25 15:06:28.706382</td><td>1        </td><td>1+1               </td></tr>\n",
       "</tbody>\n",
       "</table>"
      ],
      "text/plain": [
       "<IPython.core.display.HTML object>"
      ]
     },
     "metadata": {},
     "output_type": "display_data"
    }
   ],
   "source": [
    "# You can use this magic-module as a regular python module\n",
    "\n",
    "from cache_magic import CacheCall\n",
    "cache = CacheCall(get_ipython().kernel.shell)\n",
    "\n",
    "# setting all parameter by name\n",
    "cache(\n",
    "    version=\"*\",\n",
    "    reset=False,\n",
    "    var_name=\"aaa\",\n",
    "    var_value=\"1+1\",\n",
    "    show_all=False,\n",
    "    set_debug=True)\n",
    "\n",
    "# setting all parameter by ordering\n",
    "cache(\"1\",False,\"bbb\",\"1+1\",False, False)\n",
    "\n",
    "# setting parameter selectivly\n",
    "cache(show_all=True)\n"
   ]
  },
  {
   "cell_type": "markdown",
   "metadata": {},
   "source": [
    "## development tests\n",
    "\n",
    "the next cells show how the %cache magic should not be used\n",
    "\n",
    "these examples are for debug-purposes only"
   ]
  },
  {
   "cell_type": "code",
   "execution_count": 32,
   "metadata": {
    "scrolled": false
   },
   "outputs": [
    {
     "name": "stdout",
     "output_type": "stream",
     "text": [
      "%cache magic is now registered in jupyter\n",
      "Resetting entire cache\n",
      "   exptecting: new values\n",
      "Creating new value for variable 'a'\n",
      "Creating new value for variable 'c'\n",
      "Creating new value for variable 'sadsda'\n",
      "Creating new value for variable 'a'\n",
      "Resetting cached values for a\n",
      "Creating new value for variable 'a'\n",
      "Resetting cached values for a\n",
      "Creating new value for variable 'a'\n",
      "   exptecting: warnings\n",
      "Warning! Expression has changed since last save, which was at 2024-02-14 04:32:06.082800\n",
      "To store a new value, change or omit the version ('-v' or '--version').\n",
      "Loading cached value for variable 'a'. Time since caching: 0:00:00.006609\n",
      "Warning! Expression has changed since last save, which was at 2024-02-14 04:32:06.060966\n",
      "To store a new value, change or omit the version ('-v' or '--version').\n",
      "Loading cached value for variable 'sadsda'. Time since caching: 0:00:00.032757\n",
      "   exptecting: stored values\n",
      "Loading cached value for variable 'sadsda'. Time since caching: 0:00:00.034006\n",
      "Loading cached value for variable 'sadsda'. Time since caching: 0:00:00.038312\n"
     ]
    }
   ],
   "source": [
    "#testing successfull calls\n",
    "\n",
    "import cache_magic\n",
    "\n",
    "# Dev-Note: use reload, so you don't have to restart the kernel everytime you change the \n",
    "from importlib import reload\n",
    "reload(cache_magic)\n",
    "\n",
    "my_version = 3\n",
    "%cache --reset\n",
    "\n",
    "print(\"   exptecting: new values\")\n",
    "%cache -v 2 a = \"ex3\"\n",
    "%cache -v my_version c = \"ex3\"\n",
    "%cache --version my_version sadsda = \"ex3\"\n",
    "%cache -v 3 a=\"\"\n",
    "%cache -v 3 -r a=\"\"\n",
    "%cache -v 3 -r a=\"\"\n",
    "\n",
    "\n",
    "print(\"   exptecting: warnings\")\n",
    "%cache -v 3 a= \" _ \"\n",
    "%cache -v 3 sadsda = \"ex4\"\n",
    "\n",
    "print(\"   exptecting: stored values\")\n",
    "%cache -v my_version sadsda = \"ex3\"\n",
    "%cache -v 3 sadsda = \"ex3\"\n"
   ]
  },
  {
   "cell_type": "code",
   "execution_count": 33,
   "metadata": {
    "scrolled": true
   },
   "outputs": [
    {
     "name": "stdout",
     "output_type": "stream",
     "text": [
      "%cache magic is now registered in jupyter\n",
      "Error: Invalid version '\"a\"'. It must either be an Integer, *, or the name of a variable\n",
      "Exception was caught: Invalid version '\"a\"'. It must either be an Integer, *, or the name of a variable\n",
      "Error: Invalid version '\"1\"'. It must either be an Integer, *, or the name of a variable\n",
      "Exception was caught: Invalid version '\"1\"'. It must either be an Integer, *, or the name of a variable\n",
      "Error: Statement is not valid python: 1=a\n",
      " Error: cannot assign to literal here. Maybe you meant '==' instead of '='? (<unknown>, line 1)\n",
      "Exception was caught: Statement is not valid python: 1=a\n",
      " Error: cannot assign to literal here. Maybe you meant '==' instead of '='? (<unknown>, line 1)\n"
     ]
    }
   ],
   "source": [
    "# testing errors\n",
    "\n",
    "import cache_magic\n",
    "reload(cache_magic)\n",
    "\n",
    "# wrong versions\n",
    "try:\n",
    "    %cache -v \"a\" a = \"ex3\"\n",
    "except cache_magic.CacheCallException as e:\n",
    "    print(\"Exception was caught: \" + str(e))\n",
    "\n",
    "try:\n",
    "    %cache -v \"1\" a\n",
    "except cache_magic.CacheCallException as e:\n",
    "    print(\"Exception was caught: \" + str(e))\n",
    "\n",
    "# wrong python statement\n",
    "try:\n",
    "    %cache -v a 1=a\n",
    "except cache_magic.CacheCallException as e:\n",
    "    print(\"Exception was caught: \" + str(e))"
   ]
  },
  {
   "cell_type": "code",
   "execution_count": 34,
   "metadata": {
    "scrolled": true
   },
   "outputs": [
    {
     "name": "stdout",
     "output_type": "stream",
     "text": [
      "%cache magic is now registered in jupyter\n",
      "Resetting entire cache\n",
      "Error: Variable 'a' not in cache.\n",
      "Creating new value for variable 'a'\n",
      "Loading cached value for variable 'a'. Time since caching: 0:00:00.000599\n",
      "Error: Invalid version ''1''. It must either be an Integer, *, or the name of a variable\n",
      "Exception was caught: Invalid version ''1''. It must either be an Integer, *, or the name of a variable\n",
      "Forced version '1' could not be found, instead found version '0'.If you don't care about a specific version, remove the version parameter.\n",
      "Resetting entire cache\n",
      "Error: Variable 'a' not in cache.\n",
      "Creating new value for variable 'a'\n",
      "Loading cached value for variable 'a'. Time since caching: 0:00:00.000931\n"
     ]
    }
   ],
   "source": [
    "# testing loading without storing\n",
    "\n",
    "import cache_magic\n",
    "reload(cache_magic)\n",
    "\n",
    "%cache --reset \n",
    "a=1\n",
    "del a\n",
    "\n",
    "# error: \n",
    "%cache a\n",
    "\n",
    "%cache a=1\n",
    "del a\n",
    "%cache a\n",
    "del a\n",
    "\n",
    "# error:\n",
    "try:\n",
    "    %cache -v '1' a\n",
    "except cache_magic.CacheCallException as e:\n",
    "    print(\"Exception was caught: \" + str(e))\n",
    "\n",
    "# error\n",
    "%cache -v 1 a\n",
    "\n",
    "%cache --reset \n",
    "a=1\n",
    "del a\n",
    "\n",
    "# Error\n",
    "%cache -v 0 a\n",
    "\n",
    "%cache -v * a=1\n",
    "\n",
    "# Error:\n",
    "%cache -v * a"
   ]
  },
  {
   "cell_type": "code",
   "execution_count": 35,
   "metadata": {},
   "outputs": [
    {
     "name": "stdout",
     "output_type": "stream",
     "text": [
      "Warning: nothing to do: no variable defined, no reset requested, no show_all requested. \n"
     ]
    }
   ],
   "source": [
    "# Nothing to do in this case\n",
    "import cache_magic\n",
    "\n",
    "%cache -v 1"
   ]
  },
  {
   "cell_type": "code",
   "execution_count": 36,
   "metadata": {
    "scrolled": true
   },
   "outputs": [
    {
     "name": "stdout",
     "output_type": "stream",
     "text": [
      "creating new value for variable 'a'\n",
      "loading cached value for variable 'a'. Time since pickling  0:00:00.000334\n",
      "resetting cached values for a\n",
      "creating new value for variable 'a'\n",
      "resetting because version mismatch\n",
      "creating new value for variable 'a'\n"
     ]
    }
   ],
   "source": [
    "import cache_magic\n",
    "\n",
    "%cache -v 213 a = \"1\"\n",
    "# get stored version via error message\n",
    "%cache -v * a\n",
    "\n",
    "# testing debug flag '-d'\n",
    "%cache -d -v 1 -r a = \"1\"\n",
    "%cache -d a = \"1\""
   ]
  },
  {
   "cell_type": "code",
   "execution_count": 37,
   "metadata": {
    "scrolled": false
   },
   "outputs": [
    {
     "name": "stdout",
     "output_type": "stream",
     "text": [
      "%cache magic is now registered in jupyter\n",
      "Resetting cached values for a\n",
      "Creating new value for variable 'a'\n",
      "Resetting cached values for a\n",
      "Resetting cached values for a\n",
      "Creating new value for variable 'a'\n"
     ]
    }
   ],
   "source": [
    "import cache_magic\n",
    "from importlib import reload\n",
    "reload(cache_magic)\n",
    "\n",
    "%cache -r a=1\n",
    "%cache -r a\n",
    "%cache -r a=1"
   ]
  },
  {
   "cell_type": "code",
   "execution_count": 38,
   "metadata": {
    "scrolled": true
   },
   "outputs": [
    {
     "name": "stdout",
     "output_type": "stream",
     "text": [
      "%cache magic is now registered in jupyter\n",
      "Resetting cached values for a\n",
      "Creating new value for variable 'a'\n",
      "Loading cached value for variable 'a'. Time since caching: 0:00:00.002680\n",
      "1\n"
     ]
    }
   ],
   "source": [
    "import cache_magic\n",
    "from importlib import reload\n",
    "reload(cache_magic)\n",
    "\n",
    "%cache -r a = 1\n",
    "%cache a\n",
    "print (a)"
   ]
  },
  {
   "cell_type": "code",
   "execution_count": 39,
   "metadata": {
    "scrolled": false
   },
   "outputs": [
    {
     "name": "stdout",
     "output_type": "stream",
     "text": [
      "%cache magic is now registered in jupyter\n",
      "Resetting entire cache\n",
      "Creating new value for variable 'a'\n",
      "Loading cached value for variable 'a'. Time since caching: 0:00:00.000840\n",
      "Expression has changed since last save, which was at 2024-02-14 04:32:06.383014\n",
      "Creating new value for variable 'a'\n"
     ]
    }
   ],
   "source": [
    "import cache_magic\n",
    "from importlib import reload\n",
    "reload(cache_magic)\n",
    "\n",
    "def foo(x):\n",
    "    return x+1\n",
    "\n",
    "%cache --reset\n",
    "%cache -v * a= foo(3)\n",
    "%cache -v * a= foo(3)\n",
    "%cache -v * a= 2\n"
   ]
  },
  {
   "cell_type": "code",
   "execution_count": 40,
   "metadata": {},
   "outputs": [],
   "source": [
    "#!pip install -e ."
   ]
  }
 ],
 "metadata": {
  "kernelspec": {
   "display_name": "Python 3",
   "language": "python",
   "name": "python3"
  },
  "language_info": {
   "codemirror_mode": {
    "name": "ipython",
    "version": 3
   },
   "file_extension": ".py",
   "mimetype": "text/x-python",
   "name": "python",
   "nbconvert_exporter": "python",
   "pygments_lexer": "ipython3",
   "version": "3.10.12"
  },
  "varInspector": {
   "cols": {
    "lenName": 16,
    "lenType": 16,
    "lenVar": 40
   },
   "kernels_config": {
    "python": {
     "delete_cmd_postfix": "",
     "delete_cmd_prefix": "del ",
     "library": "var_list.py",
     "varRefreshCmd": "print(var_dic_list())"
    },
    "r": {
     "delete_cmd_postfix": ") ",
     "delete_cmd_prefix": "rm(",
     "library": "var_list.r",
     "varRefreshCmd": "cat(var_dic_list()) "
    }
   },
   "types_to_exclude": [
    "module",
    "function",
    "builtin_function_or_method",
    "instance",
    "_Feature"
   ],
   "window_display": false
  }
 },
 "nbformat": 4,
 "nbformat_minor": 2
}
